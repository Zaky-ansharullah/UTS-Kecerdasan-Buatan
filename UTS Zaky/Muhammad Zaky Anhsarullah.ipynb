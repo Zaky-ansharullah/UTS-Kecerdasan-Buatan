{
 "cells": [
  {
   "cell_type": "markdown",
   "metadata": {
    "id": "QiGcp6j9_QSz"
   },
   "source": [
    "## Soal UTS"
   ]
  },
  {
   "cell_type": "code",
   "execution_count": 27,
   "metadata": {
    "id": "RWdhQPRt8yrd"
   },
   "outputs": [],
   "source": [
    "\n",
    "# Data\n",
    "\n",
    "company_detail_list = [\n",
    "      {\n",
    "          'name': 'Company 1',\n",
    "          'domain': 'Retail',\n",
    "          'country': 'United States'\n",
    "      },\n",
    "      {\n",
    "          'name': 'Company 2',\n",
    "          'domain': 'Technology',\n",
    "          'country': 'United Kingdom'\n",
    "      },\n",
    "      {\n",
    "          'name': 'Company 3',\n",
    "          'domain': 'Healthcare',\n",
    "          'country': 'United States'\n",
    "      }\n",
    "  ]\n",
    "\n",
    "employee_detail_list = [\n",
    "     {\n",
    "          'name': 'EMP-0001',\n",
    "          'first_name': 'John',\n",
    "          'last_name': 'Doe',\n",
    "          'full_name': 'John Doe',\n",
    "          'company': 'Company 1',\n",
    "          'nationality': 'Australia'\n",
    "      },\n",
    "      {\n",
    "          'name': 'EMP-0002',\n",
    "          'first_name': 'Tom',\n",
    "          'last_name': 'Smith',\n",
    "          'full_name': 'Tom Smith',\n",
    "          'company': 'Company 2',\n",
    "          'nationality': 'United States'\n",
    "      },\n",
    "      {\n",
    "          'name': 'EMP-0003',\n",
    "          'first_name': 'Andrew',\n",
    "          'last_name': 'Sebastian',\n",
    "          'full_name': 'Andrew Sebastian',\n",
    "          'company': 'Company 3',\n",
    "          'nationality': 'United States'\n",
    "      },\n",
    "      {\n",
    "          'name': 'EMP-0005',\n",
    "          'first_name': 'Ying Han',\n",
    "          'last_name': 'Tan',\n",
    "          'full_name': 'Ying Han Tan',\n",
    "          'company': 'Company 1',\n",
    "          'nationality': 'Australia'\n",
    "      },\n",
    "      {\n",
    "          'name': 'EMP-0015',\n",
    "          'first_name': 'Kenneth',\n",
    "          'last_name': 'Ng',\n",
    "          'full_name': 'Kenneth Ng',\n",
    "          'company': 'Company 3',\n",
    "          'nationality': 'United States'\n",
    "      },\n",
    "      {\n",
    "          'name': 'EMP-0018',\n",
    "          'first_name': 'Rubby',\n",
    "          'last_name': 'Lee',\n",
    "          'full_name': 'Rubby Lee',\n",
    "          'company': 'Company 2',\n",
    "          'nationality': 'Hong Kong'\n",
    "      },\n",
    "     {\n",
    "          'name': 'EMP-0017',\n",
    "          'first_name': 'Robert',\n",
    "          'last_name': 'White',\n",
    "          'full_name': 'Robert White',\n",
    "          'company': 'Company 1',\n",
    "          'nationality': 'United Kingdom'\n",
    "      }\n",
    "  ]\n",
    "\n"
   ]
  },
  {
   "cell_type": "markdown",
   "metadata": {
    "id": "hxAkwucFjatO"
   },
   "source": [
    "The next few cells will show some examples on how to interact with our functions. Note that some of these function calls could be useful for you in completing the tasks below. "
   ]
  },
  {
   "cell_type": "markdown",
   "metadata": {
    "id": "097eOYQ-U5V2"
   },
   "source": [
    "## Task 1\n",
    "\n",
    "Please get the list of all Companies and sort by **Company Name** in reverse order.\n",
    "\n",
    "Expected result:\n",
    "\n",
    "\n",
    "```json\n",
    "[{\n",
    "    \"name\": \"Company 3\"\n",
    "}, {\n",
    "    \"name\": \"Company 2\"\n",
    "}, {\n",
    "    \"name\": \"Company 1\"\n",
    "}]\n",
    "```\n",
    "\n"
   ]
  },
  {
   "cell_type": "code",
   "execution_count": 28,
   "metadata": {},
   "outputs": [
    {
     "name": "stdout",
     "output_type": "stream",
     "text": [
      "name : Company 3\n",
      "name : Company 2\n",
      "name : Company 1\n"
     ]
    }
   ],
   "source": [
    "for company in company_detail_list[::-1]:\n",
    "    companies = company[\"name\"]\n",
    "    print('name :', companies)"
   ]
  },
  {
   "cell_type": "markdown",
   "metadata": {
    "id": "sFbEZt5JoxMJ"
   },
   "source": [
    "## Soal 2\n",
    "\n",
    "Please print all Domain value in every company (use print statement).\n",
    "\n",
    "Expected return:\n",
    "\n",
    "```\n",
    "    Company 1: Retail (United States)\n",
    "    Company 2: Technology (United Kingdom)\n",
    "    Company 3: Healthcare (United States)\n",
    "```\n",
    "\n",
    "\n"
   ]
  },
  {
   "cell_type": "code",
   "execution_count": 29,
   "metadata": {},
   "outputs": [
    {
     "name": "stdout",
     "output_type": "stream",
     "text": [
      "Company 1 : Retail ( United States )\n",
      "Company 2 : Technology ( United Kingdom )\n",
      "Company 3 : Healthcare ( United States )\n"
     ]
    }
   ],
   "source": [
    "company_list=list(company.keys())\n",
    "company_list.sort()\n",
    "\n",
    "for company in company_detail_list:\n",
    "    companies = company[\"name\"]\n",
    "    domain = company[\"domain\"]\n",
    "    country = company[\"country\"]\n",
    "    print(companies,':', domain, '(',country,')')"
   ]
  },
  {
   "cell_type": "markdown",
   "metadata": {
    "id": "d617U0r8wvOd"
   },
   "source": [
    "## Task 3\n",
    "\n",
    "List all Employees work By company domain.\n",
    "\n",
    "Expected return:\n",
    "\n",
    "```json\n",
    "{\n",
    "    \"Retail\": [\n",
    "         \"John Doe\",\n",
    "         \"Robert White\",\n",
    "         \"Ying Han Tan\"\n",
    "     ],\n",
    "    \"Technology\":[\n",
    "          \"Tom Smith\",\n",
    "          \"Rubby Lee\",\n",
    "     ],\n",
    "    \"Healthcare\": [\n",
    "         \"Kenneth Ng\",\n",
    "         \"Andrew Sebastian\"\n",
    "     ],\n",
    "}\n",
    "```\n",
    "\n"
   ]
  },
  {
   "cell_type": "code",
   "execution_count": 30,
   "metadata": {},
   "outputs": [
    {
     "name": "stdout",
     "output_type": "stream",
     "text": [
      "Retail:\n",
      "    John Doe\n",
      "    Ying Han Tan\n",
      "    Robert White\n",
      "Technology:\n",
      "    Tom Smith\n",
      "    Rubby Lee\n",
      "Healthcare:\n",
      "    Andrew Sebastian\n",
      "    Kenneth Ng\n"
     ]
    }
   ],
   "source": [
    "company_domain_map = {company['name']: company['domain'] for company in company_detail_list}\n",
    "\n",
    "employees_by_domain = {}\n",
    "for employee in employee_detail_list:\n",
    "    domain = company_domain_map[employee['company']]\n",
    "    if domain not in employees_by_domain:\n",
    "        employees_by_domain[domain] = []\n",
    "    employees_by_domain[domain].append(employee['full_name'])\n",
    "\n",
    "for domain, employees in employees_by_domain.items():\n",
    "    print(f\"{domain}:\")\n",
    "    for name in employees:\n",
    "        print(f\"    {name}\")"
   ]
  },
  {
   "cell_type": "markdown",
   "metadata": {
    "id": "-a7IODNT3w0F"
   },
   "source": [
    "## Task 4\n",
    "\n",
    "Create a function that return employees with it's company country.\n",
    "\n",
    "Expected return:\n",
    "\n",
    "\n",
    "```json\n",
    "[{\n",
    "    \"full_name\": \"John Doe\",\n",
    "    \"company\": \"Company 1\",\n",
    "    \"country\": \"United States\"\n",
    "}, {\n",
    "    \"full_name\": \"Tom Smith\",\n",
    "    \"company\": \"Company 2\",\n",
    "    \"country\": \"United Kingdom\"\n",
    "}, {\n",
    "    \"full_name\": \"Andrew Sebastian\",\n",
    "    \"company\": \"Company 3\",\n",
    "    \"country\": \"United Kingdom\"\n",
    "},  {\n",
    "    \"full_name\": \"Ying Han Tan\",\n",
    "    \"company\": \"Company 1\",\n",
    "    \"country\": \"United States\"\n",
    "},  {\n",
    "    \"full_name\": \"Kenneth Ng\",\n",
    "    \"company\": \"Company 3\",\n",
    "    \"country\": \"United States\"\n",
    "},  {\n",
    "    \"full_name\": \"Rubby Lee\",\n",
    "    \"company\": \"Company 2\",\n",
    "    \"country\": \"United Kingdom\"\n",
    "},   {\n",
    "    \"full_name\": \"Robert White\",\n",
    "    \"company\": \"Company 1\",\n",
    "    \"country\": \"United States\"\n",
    "},\n",
    "    \n",
    "]\n",
    "```\n",
    "\n"
   ]
  },
  {
   "cell_type": "code",
   "execution_count": 31,
   "metadata": {},
   "outputs": [
    {
     "name": "stdout",
     "output_type": "stream",
     "text": [
      "full_name: John Doe\n",
      "company: Company 1\n",
      "country: United States\n",
      "\n",
      "full_name: Tom Smith\n",
      "company: Company 2\n",
      "country: United Kingdom\n",
      "\n",
      "full_name: Andrew Sebastian\n",
      "company: Company 3\n",
      "country: United States\n",
      "\n",
      "full_name: Ying Han Tan\n",
      "company: Company 1\n",
      "country: United States\n",
      "\n",
      "full_name: Kenneth Ng\n",
      "company: Company 3\n",
      "country: United States\n",
      "\n",
      "full_name: Rubby Lee\n",
      "company: Company 2\n",
      "country: United Kingdom\n",
      "\n",
      "full_name: Robert White\n",
      "company: Company 1\n",
      "country: United States\n",
      "\n"
     ]
    }
   ],
   "source": [
    "def get_employees_with_company_country(company_details, employee_details):\n",
    "    company_country_map = {company['name']: company['country'] for company in company_details}\n",
    "    result = []\n",
    "    \n",
    "    for employee in employee_details:\n",
    "        company_name = employee['company']\n",
    "        country = company_country_map[company_name]\n",
    "        result.append({\n",
    "            'full_name': employee['full_name'],\n",
    "            'company': company_name,\n",
    "            'country': country\n",
    "        })\n",
    "    \n",
    "    return result\n",
    "\n",
    "employees_with_country = get_employees_with_company_country(company_detail_list, employee_detail_list)\n",
    "for employee in employees_with_country:\n",
    "    print(f\"full_name: {employee['full_name']}\")\n",
    "    print(f\"company: {employee['company']}\")\n",
    "    print(f\"country: {employee['country']}\\n\")"
   ]
  },
  {
   "cell_type": "markdown",
   "metadata": {
    "id": "TXhXCiOrFcev"
   },
   "source": [
    "## Task 5\n",
    "\n",
    "Create a function that return companies with a number of employees nationality that are working in the company.\n",
    "\n",
    "Expected return:\n",
    "\n",
    "\n",
    "```json\n",
    "[{\n",
    "    \"company\": \"Company 1\",\n",
    "    \"employee_nationality\": {\n",
    "        \"Australia\": 2,\n",
    "        \"Hong Kong\": 1\n",
    "    }\n",
    "}, {\n",
    "    \"company\": \"Company 2\",\n",
    "    \"employee_nationality\": {\n",
    "        \"Hong Kong\": 1,\n",
    "        \"United States\": 1\n",
    "    }\n",
    "}, {\n",
    "    \"company\": \"Company 3\",\n",
    "    \"employee_nationality\": {\n",
    "        \"United States\": 2\n",
    "    }\n",
    "}]\n",
    "```\n",
    "\n"
   ]
  },
  {
   "cell_type": "code",
   "execution_count": 32,
   "metadata": {},
   "outputs": [
    {
     "name": "stdout",
     "output_type": "stream",
     "text": [
      "company: Company 1\n",
      "employee_nationality:\n",
      "    Australia: 2\n",
      "    United Kingdom: 1\n",
      "\n",
      "company: Company 2\n",
      "employee_nationality:\n",
      "    United States: 1\n",
      "    Hong Kong: 1\n",
      "\n",
      "company: Company 3\n",
      "employee_nationality:\n",
      "    United States: 2\n",
      "\n"
     ]
    }
   ],
   "source": [
    "company_nationality_count = {}\n",
    "for employee in employee_detail_list:\n",
    "    company = employee['company']\n",
    "    nationality = employee['nationality']\n",
    "    \n",
    "    if company not in company_nationality_count:\n",
    "        company_nationality_count[company] = {}\n",
    "    \n",
    "    if nationality not in company_nationality_count[company]:\n",
    "        company_nationality_count[company][nationality] = 0\n",
    "    \n",
    "    company_nationality_count[company][nationality] += 1\n",
    "for company, nationalities in company_nationality_count.items():\n",
    "    print(f\"company: {company}\")\n",
    "    print(\"employee_nationality:\")\n",
    "    for nationality, count in nationalities.items():\n",
    "        print(f\"    {nationality}: {count}\")\n",
    "    print()"
   ]
  },
  {
   "cell_type": "code",
   "execution_count": null,
   "metadata": {},
   "outputs": [],
   "source": []
  }
 ],
 "metadata": {
  "colab": {
   "collapsed_sections": [],
   "name": "AT Backend Test.ipynb",
   "provenance": [
    {
     "file_id": "1vK5VvfGC3SQ_onwiFXNdtvWQRvHAbeZa",
     "timestamp": 1650627195682
    },
    {
     "file_id": "1hHOgmPPwUDtWvGuaz2tuclaa6MJYUmIm",
     "timestamp": 1650504460415
    },
    {
     "file_id": "1HSO3CG0-7R5jptBBEx-CDHIDRjXgXmrl",
     "timestamp": 1650255042674
    }
   ]
  },
  "kernelspec": {
   "display_name": "Python 3 (ipykernel)",
   "language": "python",
   "name": "python3"
  },
  "language_info": {
   "codemirror_mode": {
    "name": "ipython",
    "version": 3
   },
   "file_extension": ".py",
   "mimetype": "text/x-python",
   "name": "python",
   "nbconvert_exporter": "python",
   "pygments_lexer": "ipython3",
   "version": "3.13.0"
  }
 },
 "nbformat": 4,
 "nbformat_minor": 4
}
